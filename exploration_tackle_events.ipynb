{
 "cells": [
  {
   "cell_type": "code",
   "execution_count": 1,
   "metadata": {},
   "outputs": [],
   "source": [
    "# add local directory to import path\n",
    "import os\n",
    "import sys\n",
    "module_path = os.path.abspath(os.path.join('.'))\n",
    "if module_path not in sys.path:\n",
    "    sys.path.append(module_path)"
   ]
  },
  {
   "cell_type": "code",
   "execution_count": 2,
   "metadata": {},
   "outputs": [],
   "source": [
    "#### --- Standard imports ------\n",
    "import pandas as pd\n",
    "import numpy as np\n",
    "import matplotlib.pyplot as plt\n",
    "\n",
    "from IPython.display import HTML\n",
    "\n",
    "# local import\n",
    "import nflplot"
   ]
  },
  {
   "cell_type": "code",
   "execution_count": 3,
   "metadata": {},
   "outputs": [
    {
     "data": {
      "text/plain": [
       "<module 'nflplot' from 'c:\\\\Users\\\\pschl\\\\Documents\\\\data_science\\\\kaggle_nfl_bdb_2024\\\\nflplot.py'>"
      ]
     },
     "execution_count": 3,
     "metadata": {},
     "output_type": "execute_result"
    }
   ],
   "source": [
    "from importlib import reload\n",
    "reload(nflplot)"
   ]
  },
  {
   "attachments": {},
   "cell_type": "markdown",
   "metadata": {},
   "source": [
    "**This notebook assumes that the source data is in a \"csv\" subfolder relative to this notebook**"
   ]
  },
  {
   "cell_type": "code",
   "execution_count": 4,
   "metadata": {},
   "outputs": [],
   "source": [
    "week = 1\n",
    "track_df = pd.read_csv(f'csv/tracking_week_{week}.csv')\n",
    "play_df = pd.read_csv('csv/plays.csv')\n",
    "game_df = pd.read_csv('csv/games.csv')\n",
    "player_df= pd.read_csv('csv/players.csv')\n",
    "tackle_df = pd.read_csv('csv/tackles.csv')"
   ]
  },
  {
   "cell_type": "code",
   "execution_count": 8,
   "metadata": {},
   "outputs": [],
   "source": [
    "solo_tackle_plays = tackle_df.query('tackle==1').loc[:, ['gameId','playId']].drop_duplicates()\n",
    "len(solo_tackle_plays)"
   ]
  },
  {
   "cell_type": "code",
   "execution_count": 35,
   "metadata": {},
   "outputs": [
    {
     "name": "stdout",
     "output_type": "stream",
     "text": [
      "Number of plays in week 1 with a solo tackle:\n"
     ]
    },
    {
     "data": {
      "text/plain": [
       "1213"
      ]
     },
     "execution_count": 35,
     "metadata": {},
     "output_type": "execute_result"
    }
   ],
   "source": [
    "print('Number of plays in week 1 with a solo tackle:')\n",
    "len(play_df.merge(game_df.loc[game_df.week==1, 'gameId'], on='gameId', how='inner')\n",
    "    .merge(solo_tackle_plays, on=['gameId','playId'], how='inner')\n",
    "    )"
   ]
  },
  {
   "cell_type": "code",
   "execution_count": 30,
   "metadata": {},
   "outputs": [
    {
     "data": {
      "text/html": [
       "<div>\n",
       "<style scoped>\n",
       "    .dataframe tbody tr th:only-of-type {\n",
       "        vertical-align: middle;\n",
       "    }\n",
       "\n",
       "    .dataframe tbody tr th {\n",
       "        vertical-align: top;\n",
       "    }\n",
       "\n",
       "    .dataframe thead th {\n",
       "        text-align: right;\n",
       "    }\n",
       "</style>\n",
       "<table border=\"1\" class=\"dataframe\">\n",
       "  <thead>\n",
       "    <tr style=\"text-align: right;\">\n",
       "      <th></th>\n",
       "      <th>gameId</th>\n",
       "      <th>playId</th>\n",
       "      <th>frameId</th>\n",
       "    </tr>\n",
       "  </thead>\n",
       "  <tbody>\n",
       "    <tr>\n",
       "      <th>12</th>\n",
       "      <td>2022090800</td>\n",
       "      <td>56</td>\n",
       "      <td>13</td>\n",
       "    </tr>\n",
       "    <tr>\n",
       "      <th>13</th>\n",
       "      <td>2022090800</td>\n",
       "      <td>56</td>\n",
       "      <td>14</td>\n",
       "    </tr>\n",
       "    <tr>\n",
       "      <th>14</th>\n",
       "      <td>2022090800</td>\n",
       "      <td>56</td>\n",
       "      <td>15</td>\n",
       "    </tr>\n",
       "    <tr>\n",
       "      <th>15</th>\n",
       "      <td>2022090800</td>\n",
       "      <td>56</td>\n",
       "      <td>16</td>\n",
       "    </tr>\n",
       "    <tr>\n",
       "      <th>16</th>\n",
       "      <td>2022090800</td>\n",
       "      <td>56</td>\n",
       "      <td>17</td>\n",
       "    </tr>\n",
       "    <tr>\n",
       "      <th>...</th>\n",
       "      <td>...</td>\n",
       "      <td>...</td>\n",
       "      <td>...</td>\n",
       "    </tr>\n",
       "    <tr>\n",
       "      <th>1406268</th>\n",
       "      <td>2022091200</td>\n",
       "      <td>3826</td>\n",
       "      <td>49</td>\n",
       "    </tr>\n",
       "    <tr>\n",
       "      <th>1406269</th>\n",
       "      <td>2022091200</td>\n",
       "      <td>3826</td>\n",
       "      <td>50</td>\n",
       "    </tr>\n",
       "    <tr>\n",
       "      <th>1406270</th>\n",
       "      <td>2022091200</td>\n",
       "      <td>3826</td>\n",
       "      <td>51</td>\n",
       "    </tr>\n",
       "    <tr>\n",
       "      <th>1406271</th>\n",
       "      <td>2022091200</td>\n",
       "      <td>3826</td>\n",
       "      <td>52</td>\n",
       "    </tr>\n",
       "    <tr>\n",
       "      <th>1406272</th>\n",
       "      <td>2022091200</td>\n",
       "      <td>3826</td>\n",
       "      <td>53</td>\n",
       "    </tr>\n",
       "  </tbody>\n",
       "</table>\n",
       "<p>14730 rows × 3 columns</p>\n",
       "</div>"
      ],
      "text/plain": [
       "             gameId  playId  frameId\n",
       "12       2022090800      56       13\n",
       "13       2022090800      56       14\n",
       "14       2022090800      56       15\n",
       "15       2022090800      56       16\n",
       "16       2022090800      56       17\n",
       "...             ...     ...      ...\n",
       "1406268  2022091200    3826       49\n",
       "1406269  2022091200    3826       50\n",
       "1406270  2022091200    3826       51\n",
       "1406271  2022091200    3826       52\n",
       "1406272  2022091200    3826       53\n",
       "\n",
       "[14730 rows x 3 columns]"
      ]
     },
     "execution_count": 30,
     "metadata": {},
     "output_type": "execute_result"
    }
   ],
   "source": [
    "pm10_df = (track_df.groupby(['gameId','playId','frameId']).head(1)\n",
    "           .sort_values(['gameId','playId','frameId'], ascending=[True, True, True])\n",
    "           .groupby(['gameId','playId'])\n",
    "           .tail(10)\n",
    "           .loc[:, ['gameId','playId','frameId']]\n",
    "           )\n",
    "pm10_df"
   ]
  },
  {
   "cell_type": "code",
   "execution_count": 36,
   "metadata": {},
   "outputs": [
    {
     "name": "stdout",
     "output_type": "stream",
     "text": [
      "Events during solo tackle plays, in the last 10 frames of the play:\n"
     ]
    },
    {
     "data": {
      "text/plain": [
       "event\n",
       "tackle                      974\n",
       "out_of_bounds               203\n",
       "first_contact               199\n",
       "pass_outcome_caught          73\n",
       "fumble                       25\n",
       "pass_arrived                 20\n",
       "qb_slide                     14\n",
       "fumble_defense_recovered      1\n",
       "Name: count, dtype: int64"
      ]
     },
     "execution_count": 36,
     "metadata": {},
     "output_type": "execute_result"
    }
   ],
   "source": [
    "print('Events during solo tackle plays, in the last 10 frames of the play:')\n",
    "(\n",
    "    track_df.groupby(['gameId','playId','frameId']).head(1)\n",
    "    .merge(pm10_df, on=['gameId','playId','frameId'], how='inner')\n",
    "    .merge(solo_tackle_plays, on=['gameId','playId'], how='inner')\n",
    "    .loc[:, 'event']\n",
    "    .value_counts())"
   ]
  }
 ],
 "metadata": {
  "kernelspec": {
   "display_name": "Python 3",
   "language": "python",
   "name": "python3"
  },
  "language_info": {
   "codemirror_mode": {
    "name": "ipython",
    "version": 3
   },
   "file_extension": ".py",
   "mimetype": "text/x-python",
   "name": "python",
   "nbconvert_exporter": "python",
   "pygments_lexer": "ipython3",
   "version": "3.11.5"
  }
 },
 "nbformat": 4,
 "nbformat_minor": 4
}
